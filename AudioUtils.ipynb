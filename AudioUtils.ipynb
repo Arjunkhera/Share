{
 "cells": [
  {
   "cell_type": "markdown",
   "id": "827f9b14-876d-4e44-8660-b1c8d99dc645",
   "metadata": {},
   "source": [
    "### Grab current path"
   ]
  },
  {
   "cell_type": "code",
   "execution_count": 2,
   "id": "5eceb094-ad35-4ca2-bff3-7cfd5a908081",
   "metadata": {},
   "outputs": [],
   "source": [
    "import os"
   ]
  },
  {
   "cell_type": "code",
   "execution_count": 3,
   "id": "d76442ea-05d1-4e88-a7c8-f05e231ddcc8",
   "metadata": {},
   "outputs": [],
   "source": [
    "def print_current_path():\n",
    "    return os.path.abspath(os.getcwd())"
   ]
  },
  {
   "cell_type": "code",
   "execution_count": 4,
   "id": "7cb8a11f-afe6-40f7-82e6-ec373c918e2c",
   "metadata": {},
   "outputs": [
    {
     "name": "stdout",
     "output_type": "stream",
     "text": [
      "Current absolute path: /Users/arkhera/Desktop/Repositories/MachineLearning/Python\n"
     ]
    }
   ],
   "source": [
    "current_path = print_current_path()\n",
    "print(\"Current absolute path:\", current_path)"
   ]
  },
  {
   "cell_type": "markdown",
   "id": "6a2d60c7-feb4-4a34-9c63-0ceb0678dc40",
   "metadata": {},
   "source": [
    "### Cut Audio File"
   ]
  },
  {
   "cell_type": "code",
   "execution_count": 23,
   "id": "e18f6023-7ed3-4a23-80c3-6c700a8e2300",
   "metadata": {},
   "outputs": [],
   "source": [
    "import os\n",
    "from pydub import AudioSegment"
   ]
  },
  {
   "cell_type": "code",
   "execution_count": 24,
   "id": "db2a76e1-c488-4534-b8f9-cda976467ad2",
   "metadata": {},
   "outputs": [],
   "source": [
    "def cut_audio(file_path, start_time, end_time, output_file_path):\n",
    "    # Load the audio file\n",
    "    audio = AudioSegment.from_file(file_path)\n",
    "\n",
    "    # Calculate the start and end positions in milliseconds\n",
    "    start_pos = start_time * 1000\n",
    "    end_pos = end_time * 1000\n",
    "\n",
    "    # Extract the desired portion of the audio\n",
    "    extracted_audio = audio[start_pos:end_pos]\n",
    "\n",
    "    # Create the directory if it doesn't exist\n",
    "    os.makedirs(os.path.dirname(output_file_path), exist_ok=True)\n",
    "\n",
    "    # Export the extracted audio to a new file with the specified format\n",
    "    input_format = os.path.splitext(output_file_path)[1][1:]\n",
    "    if input_format == \"m4a\":\n",
    "        # https://github.com/jiaaro/pydub/issues/755\n",
    "        input_format = \"ipod\"\n",
    "    \n",
    "    extracted_audio.export(output_file_path, format=input_format)\n",
    "\n",
    "    print(f\"Extracted audio saved as: {output_file_path}\")"
   ]
  },
  {
   "cell_type": "code",
   "execution_count": 25,
   "id": "261b6b55-454c-4dce-b010-288907a0b404",
   "metadata": {},
   "outputs": [],
   "source": [
    "input_file = \"/Users/arkhera/Desktop/TestRecording.m4a\"\n",
    "output_file = \"/Users/arkhera/Desktop/TestRecordingCutVersion.m4a\"\n",
    "start_minute = 10\n",
    "end_minute = 15"
   ]
  },
  {
   "cell_type": "code",
   "execution_count": 26,
   "id": "c8c17d43-7895-46bc-b8df-b8e381b1b5a8",
   "metadata": {},
   "outputs": [
    {
     "name": "stdout",
     "output_type": "stream",
     "text": [
      "Extracted audio saved as: /Users/arkhera/Desktop/TestRecordingCutVersion.m4a\n"
     ]
    }
   ],
   "source": [
    "cut_audio(input_file, start_minute * 60, end_minute * 60, output_file)"
   ]
  },
  {
   "cell_type": "markdown",
   "id": "f9ed7ba2-e402-4c11-842e-4e54979754a6",
   "metadata": {},
   "source": [
    "### Convert audio file from one format to another"
   ]
  },
  {
   "cell_type": "code",
   "execution_count": 22,
   "id": "e7d7c58d-5404-458b-85b8-0e2e69921518",
   "metadata": {},
   "outputs": [],
   "source": [
    "import os\n",
    "from pydub import AudioSegment"
   ]
  },
  {
   "cell_type": "code",
   "execution_count": 27,
   "id": "060bff17-157b-4b94-9dae-a239b6d636c3",
   "metadata": {},
   "outputs": [],
   "source": [
    "def convert_audio(file_path, output_file_path, output_format):\n",
    "    # Load the audio file\n",
    "    audio = AudioSegment.from_file(file_path)\n",
    "\n",
    "    # Create the directory if it doesn't exist\n",
    "    os.makedirs(os.path.dirname(output_file_path), exist_ok=True)\n",
    "\n",
    "    # Export the audio to the desired format\n",
    "    audio.export(output_file_path, format=output_format)\n",
    "\n",
    "    print(f\"Audio converted and saved as: {output_file_path}\")"
   ]
  },
  {
   "cell_type": "code",
   "execution_count": 28,
   "id": "4cd8fdd0-f003-43cc-8dcf-3dfc5734a906",
   "metadata": {},
   "outputs": [],
   "source": [
    "input_file = \"/Users/arkhera/Desktop/TestRecordingCutVersion.m4a\"\n",
    "output_file = \"/Users/arkhera/Desktop/TestRecordingCutVersionModifiedFormat.mp3\"\n",
    "output_format = \"mp3\""
   ]
  },
  {
   "cell_type": "code",
   "execution_count": 29,
   "id": "2cd5fa61-e5da-4aed-9625-8cd24faa255c",
   "metadata": {},
   "outputs": [
    {
     "name": "stdout",
     "output_type": "stream",
     "text": [
      "Audio converted and saved as: /Users/arkhera/Desktop/TestRecordingCutVersionModifiedFormat.mp3\n"
     ]
    }
   ],
   "source": [
    "convert_audio(input_file, output_file, output_format)"
   ]
  },
  {
   "cell_type": "code",
   "execution_count": null,
   "id": "29f2e774-800c-495c-9cad-c81d41f6601e",
   "metadata": {},
   "outputs": [],
   "source": []
  },
  {
   "cell_type": "code",
   "execution_count": null,
   "id": "2ea58ad5-69c9-44a6-ad92-1cc9ef829dc3",
   "metadata": {},
   "outputs": [],
   "source": []
  }
 ],
 "metadata": {
  "kernelspec": {
   "display_name": "Python 3 (ipykernel)",
   "language": "python",
   "name": "python3"
  },
  "language_info": {
   "codemirror_mode": {
    "name": "ipython",
    "version": 3
   },
   "file_extension": ".py",
   "mimetype": "text/x-python",
   "name": "python",
   "nbconvert_exporter": "python",
   "pygments_lexer": "ipython3",
   "version": "3.12.2"
  }
 },
 "nbformat": 4,
 "nbformat_minor": 5
}
